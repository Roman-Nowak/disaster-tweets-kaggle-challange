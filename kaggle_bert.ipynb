{
 "cells": [
  {
   "cell_type": "markdown",
   "metadata": {},
   "source": [
    "# Imports"
   ]
  },
  {
   "cell_type": "code",
   "execution_count": 1,
   "metadata": {},
   "outputs": [],
   "source": [
    "import numpy as np\n",
    "import pandas as pd\n",
    "import tensorflow as tf\n",
    "from transformers import BertTokenizer\n",
    "from transformers import BertModel\n",
    "from transformers import TFBertForSequenceClassification\n",
    "from transformers import AdamW\n",
    "from transformers import get_linear_schedule_with_warmup"
   ]
  },
  {
   "cell_type": "code",
   "execution_count": 2,
   "metadata": {},
   "outputs": [],
   "source": [
    "tf.keras.backend.set_floatx('float16')"
   ]
  },
  {
   "cell_type": "code",
   "execution_count": 3,
   "metadata": {},
   "outputs": [
    {
     "data": {
      "text/plain": [
       "[PhysicalDevice(name='/physical_device:GPU:0', device_type='GPU')]"
      ]
     },
     "execution_count": 3,
     "metadata": {},
     "output_type": "execute_result"
    }
   ],
   "source": [
    "tf.config.list_physical_devices('GPU')"
   ]
  },
  {
   "cell_type": "markdown",
   "metadata": {},
   "source": [
    "# Load data"
   ]
  },
  {
   "cell_type": "code",
   "execution_count": 4,
   "metadata": {},
   "outputs": [],
   "source": [
    "train_df = pd.read_csv('train_df.csv')\n",
    "test_df = pd.read_csv('test_df.csv')"
   ]
  },
  {
   "cell_type": "markdown",
   "metadata": {},
   "source": [
    "# Define hyperparameters"
   ]
  },
  {
   "cell_type": "code",
   "execution_count": 13,
   "metadata": {},
   "outputs": [],
   "source": [
    "tokenizer_max_length = 64\n",
    "base_batch_size = 32\n",
    "lr = 2e-5\n",
    "num_epoch=10"
   ]
  },
  {
   "cell_type": "markdown",
   "metadata": {},
   "source": [
    "# Tokenize"
   ]
  },
  {
   "cell_type": "code",
   "execution_count": 14,
   "metadata": {},
   "outputs": [],
   "source": [
    "# load bert large model from transformers\n",
    "tokenizer = BertTokenizer.from_pretrained('bert-large-uncased', do_lower_case=True)\n",
    "# encode train text and set padding length to 84.\n",
    "train_encodings = tokenizer(list(train_df['clean_joined_text']), truncation=True, padding=True, max_length=tokenizer_max_length)"
   ]
  },
  {
   "cell_type": "markdown",
   "metadata": {},
   "source": [
    "# Prepare data"
   ]
  },
  {
   "cell_type": "code",
   "execution_count": 7,
   "metadata": {},
   "outputs": [],
   "source": [
    "train_dataset = tf.data.Dataset.from_tensor_slices((dict(train_encodings),\n",
    "                                                    list(train_df['target'])))"
   ]
  },
  {
   "cell_type": "markdown",
   "metadata": {},
   "source": [
    "# Instantiate model"
   ]
  },
  {
   "cell_type": "code",
   "execution_count": 8,
   "metadata": {},
   "outputs": [
    {
     "name": "stderr",
     "output_type": "stream",
     "text": [
      "All model checkpoint layers were used when initializing TFBertForSequenceClassification.\n",
      "\n",
      "Some layers of TFBertForSequenceClassification were not initialized from the model checkpoint at bert-large-uncased and are newly initialized: ['classifier']\n",
      "You should probably TRAIN this model on a down-stream task to be able to use it for predictions and inference.\n"
     ]
    }
   ],
   "source": [
    "model = TFBertForSequenceClassification.from_pretrained('bert-large-uncased')"
   ]
  },
  {
   "cell_type": "code",
   "execution_count": 9,
   "metadata": {},
   "outputs": [],
   "source": [
    "optimizer = tf.keras.optimizers.Adam(learning_rate=lr)\n",
    "loss = tf.keras.losses.SparseCategoricalCrossentropy(from_logits=True)"
   ]
  },
  {
   "cell_type": "code",
   "execution_count": 15,
   "metadata": {},
   "outputs": [],
   "source": [
    "model.compile(\n",
    "    optimizer=optimizer,\n",
    "    loss=loss,\n",
    "    metrics=['accuracy']\n",
    ")"
   ]
  },
  {
   "cell_type": "code",
   "execution_count": 16,
   "metadata": {},
   "outputs": [
    {
     "data": {
      "text/plain": [
       "<BatchDataset element_spec=({'input_ids': TensorSpec(shape=(None, 42), dtype=tf.int32, name=None), 'token_type_ids': TensorSpec(shape=(None, 42), dtype=tf.int32, name=None), 'attention_mask': TensorSpec(shape=(None, 42), dtype=tf.int32, name=None)}, TensorSpec(shape=(None,), dtype=tf.int32, name=None))>"
      ]
     },
     "execution_count": 16,
     "metadata": {},
     "output_type": "execute_result"
    }
   ],
   "source": [
    "train_dataset.shuffle(len(train_dataset)).batch(base_batch_size)"
   ]
  },
  {
   "cell_type": "code",
   "execution_count": 18,
   "metadata": {},
   "outputs": [
    {
     "name": "stdout",
     "output_type": "stream",
     "text": [
      "Epoch 1/10\n"
     ]
    },
    {
     "ename": "ResourceExhaustedError",
     "evalue": "Graph execution error:\n\nDetected at node 'tf_bert_for_sequence_classification/bert/encoder/layer_._16/attention/output/LayerNorm/moments/Cast' defined at (most recent call last):\n    File \"c:\\Users\\Rnowa\\anaconda3\\envs\\SDA_DASCI\\lib\\runpy.py\", line 196, in _run_module_as_main\n      return _run_code(code, main_globals, None,\n    File \"c:\\Users\\Rnowa\\anaconda3\\envs\\SDA_DASCI\\lib\\runpy.py\", line 86, in _run_code\n      exec(code, run_globals)\n    File \"C:\\Users\\Rnowa\\AppData\\Roaming\\Python\\Python310\\site-packages\\ipykernel_launcher.py\", line 17, in <module>\n      app.launch_new_instance()\n    File \"C:\\Users\\Rnowa\\AppData\\Roaming\\Python\\Python310\\site-packages\\traitlets\\config\\application.py\", line 982, in launch_instance\n      app.start()\n    File \"C:\\Users\\Rnowa\\AppData\\Roaming\\Python\\Python310\\site-packages\\ipykernel\\kernelapp.py\", line 712, in start\n      self.io_loop.start()\n    File \"C:\\Users\\Rnowa\\AppData\\Roaming\\Python\\Python310\\site-packages\\tornado\\platform\\asyncio.py\", line 215, in start\n      self.asyncio_loop.run_forever()\n    File \"c:\\Users\\Rnowa\\anaconda3\\envs\\SDA_DASCI\\lib\\asyncio\\base_events.py\", line 600, in run_forever\n      self._run_once()\n    File \"c:\\Users\\Rnowa\\anaconda3\\envs\\SDA_DASCI\\lib\\asyncio\\base_events.py\", line 1896, in _run_once\n      handle._run()\n    File \"c:\\Users\\Rnowa\\anaconda3\\envs\\SDA_DASCI\\lib\\asyncio\\events.py\", line 80, in _run\n      self._context.run(self._callback, *self._args)\n    File \"C:\\Users\\Rnowa\\AppData\\Roaming\\Python\\Python310\\site-packages\\ipykernel\\kernelbase.py\", line 510, in dispatch_queue\n      await self.process_one()\n    File \"C:\\Users\\Rnowa\\AppData\\Roaming\\Python\\Python310\\site-packages\\ipykernel\\kernelbase.py\", line 499, in process_one\n      await dispatch(*args)\n    File \"C:\\Users\\Rnowa\\AppData\\Roaming\\Python\\Python310\\site-packages\\ipykernel\\kernelbase.py\", line 406, in dispatch_shell\n      await result\n    File \"C:\\Users\\Rnowa\\AppData\\Roaming\\Python\\Python310\\site-packages\\ipykernel\\kernelbase.py\", line 730, in execute_request\n      reply_content = await reply_content\n    File \"C:\\Users\\Rnowa\\AppData\\Roaming\\Python\\Python310\\site-packages\\ipykernel\\ipkernel.py\", line 383, in do_execute\n      res = shell.run_cell(\n    File \"C:\\Users\\Rnowa\\AppData\\Roaming\\Python\\Python310\\site-packages\\ipykernel\\zmqshell.py\", line 528, in run_cell\n      return super().run_cell(*args, **kwargs)\n    File \"C:\\Users\\Rnowa\\AppData\\Roaming\\Python\\Python310\\site-packages\\IPython\\core\\interactiveshell.py\", line 2940, in run_cell\n      result = self._run_cell(\n    File \"C:\\Users\\Rnowa\\AppData\\Roaming\\Python\\Python310\\site-packages\\IPython\\core\\interactiveshell.py\", line 2995, in _run_cell\n      return runner(coro)\n    File \"C:\\Users\\Rnowa\\AppData\\Roaming\\Python\\Python310\\site-packages\\IPython\\core\\async_helpers.py\", line 129, in _pseudo_sync_runner\n      coro.send(None)\n    File \"C:\\Users\\Rnowa\\AppData\\Roaming\\Python\\Python310\\site-packages\\IPython\\core\\interactiveshell.py\", line 3194, in run_cell_async\n      has_raised = await self.run_ast_nodes(code_ast.body, cell_name,\n    File \"C:\\Users\\Rnowa\\AppData\\Roaming\\Python\\Python310\\site-packages\\IPython\\core\\interactiveshell.py\", line 3373, in run_ast_nodes\n      if await self.run_code(code, result, async_=asy):\n    File \"C:\\Users\\Rnowa\\AppData\\Roaming\\Python\\Python310\\site-packages\\IPython\\core\\interactiveshell.py\", line 3433, in run_code\n      exec(code_obj, self.user_global_ns, self.user_ns)\n    File \"C:\\Users\\Rnowa\\AppData\\Local\\Temp\\ipykernel_28496\\3826060427.py\", line 1, in <module>\n      model.fit(train_dataset.shuffle(len(train_dataset)).batch(base_batch_size),\n    File \"c:\\Users\\Rnowa\\anaconda3\\envs\\SDA_DASCI\\lib\\site-packages\\keras\\utils\\traceback_utils.py\", line 65, in error_handler\n      return fn(*args, **kwargs)\n    File \"c:\\Users\\Rnowa\\anaconda3\\envs\\SDA_DASCI\\lib\\site-packages\\keras\\engine\\training.py\", line 1564, in fit\n      tmp_logs = self.train_function(iterator)\n    File \"c:\\Users\\Rnowa\\anaconda3\\envs\\SDA_DASCI\\lib\\site-packages\\keras\\engine\\training.py\", line 1160, in train_function\n      return step_function(self, iterator)\n    File \"c:\\Users\\Rnowa\\anaconda3\\envs\\SDA_DASCI\\lib\\site-packages\\keras\\engine\\training.py\", line 1146, in step_function\n      outputs = model.distribute_strategy.run(run_step, args=(data,))\n    File \"c:\\Users\\Rnowa\\anaconda3\\envs\\SDA_DASCI\\lib\\site-packages\\keras\\engine\\training.py\", line 1135, in run_step\n      outputs = model.train_step(data)\n    File \"c:\\Users\\Rnowa\\anaconda3\\envs\\SDA_DASCI\\lib\\site-packages\\transformers\\modeling_tf_utils.py\", line 1420, in train_step\n      y_pred = self(x, training=True)\n    File \"c:\\Users\\Rnowa\\anaconda3\\envs\\SDA_DASCI\\lib\\site-packages\\keras\\utils\\traceback_utils.py\", line 65, in error_handler\n      return fn(*args, **kwargs)\n    File \"c:\\Users\\Rnowa\\anaconda3\\envs\\SDA_DASCI\\lib\\site-packages\\keras\\engine\\training.py\", line 557, in __call__\n      return super().__call__(*args, **kwargs)\n    File \"c:\\Users\\Rnowa\\anaconda3\\envs\\SDA_DASCI\\lib\\site-packages\\keras\\utils\\traceback_utils.py\", line 65, in error_handler\n      return fn(*args, **kwargs)\n    File \"c:\\Users\\Rnowa\\anaconda3\\envs\\SDA_DASCI\\lib\\site-packages\\keras\\engine\\base_layer.py\", line 1097, in __call__\n      outputs = call_fn(inputs, *args, **kwargs)\n    File \"c:\\Users\\Rnowa\\anaconda3\\envs\\SDA_DASCI\\lib\\site-packages\\keras\\utils\\traceback_utils.py\", line 96, in error_handler\n      return fn(*args, **kwargs)\n    File \"c:\\Users\\Rnowa\\anaconda3\\envs\\SDA_DASCI\\lib\\site-packages\\transformers\\modeling_tf_utils.py\", line 1652, in run_call_with_unpacked_inputs\n    File \"c:\\Users\\Rnowa\\anaconda3\\envs\\SDA_DASCI\\lib\\site-packages\\transformers\\models\\bert\\modeling_tf_bert.py\", line 1665, in call\n      outputs = self.bert(\n    File \"c:\\Users\\Rnowa\\anaconda3\\envs\\SDA_DASCI\\lib\\site-packages\\keras\\utils\\traceback_utils.py\", line 65, in error_handler\n      return fn(*args, **kwargs)\n    File \"c:\\Users\\Rnowa\\anaconda3\\envs\\SDA_DASCI\\lib\\site-packages\\keras\\engine\\base_layer.py\", line 1097, in __call__\n      outputs = call_fn(inputs, *args, **kwargs)\n    File \"c:\\Users\\Rnowa\\anaconda3\\envs\\SDA_DASCI\\lib\\site-packages\\keras\\utils\\traceback_utils.py\", line 96, in error_handler\n      return fn(*args, **kwargs)\n    File \"c:\\Users\\Rnowa\\anaconda3\\envs\\SDA_DASCI\\lib\\site-packages\\transformers\\modeling_tf_utils.py\", line 1652, in run_call_with_unpacked_inputs\n    File \"c:\\Users\\Rnowa\\anaconda3\\envs\\SDA_DASCI\\lib\\site-packages\\transformers\\models\\bert\\modeling_tf_bert.py\", line 873, in call\n      encoder_outputs = self.encoder(\n    File \"c:\\Users\\Rnowa\\anaconda3\\envs\\SDA_DASCI\\lib\\site-packages\\keras\\utils\\traceback_utils.py\", line 65, in error_handler\n      return fn(*args, **kwargs)\n    File \"c:\\Users\\Rnowa\\anaconda3\\envs\\SDA_DASCI\\lib\\site-packages\\keras\\engine\\base_layer.py\", line 1097, in __call__\n      outputs = call_fn(inputs, *args, **kwargs)\n    File \"c:\\Users\\Rnowa\\anaconda3\\envs\\SDA_DASCI\\lib\\site-packages\\keras\\utils\\traceback_utils.py\", line 96, in error_handler\n      return fn(*args, **kwargs)\n    File \"c:\\Users\\Rnowa\\anaconda3\\envs\\SDA_DASCI\\lib\\site-packages\\transformers\\models\\bert\\modeling_tf_bert.py\", line 558, in call\n      for i, layer_module in enumerate(self.layer):\n    File \"c:\\Users\\Rnowa\\anaconda3\\envs\\SDA_DASCI\\lib\\site-packages\\transformers\\models\\bert\\modeling_tf_bert.py\", line 564, in call\n      layer_outputs = layer_module(\n    File \"c:\\Users\\Rnowa\\anaconda3\\envs\\SDA_DASCI\\lib\\site-packages\\keras\\utils\\traceback_utils.py\", line 65, in error_handler\n      return fn(*args, **kwargs)\n    File \"c:\\Users\\Rnowa\\anaconda3\\envs\\SDA_DASCI\\lib\\site-packages\\keras\\engine\\base_layer.py\", line 1097, in __call__\n      outputs = call_fn(inputs, *args, **kwargs)\n    File \"c:\\Users\\Rnowa\\anaconda3\\envs\\SDA_DASCI\\lib\\site-packages\\keras\\utils\\traceback_utils.py\", line 96, in error_handler\n      return fn(*args, **kwargs)\n    File \"c:\\Users\\Rnowa\\anaconda3\\envs\\SDA_DASCI\\lib\\site-packages\\transformers\\models\\bert\\modeling_tf_bert.py\", line 474, in call\n      self_attention_outputs = self.attention(\n    File \"c:\\Users\\Rnowa\\anaconda3\\envs\\SDA_DASCI\\lib\\site-packages\\keras\\utils\\traceback_utils.py\", line 65, in error_handler\n      return fn(*args, **kwargs)\n    File \"c:\\Users\\Rnowa\\anaconda3\\envs\\SDA_DASCI\\lib\\site-packages\\keras\\engine\\base_layer.py\", line 1097, in __call__\n      outputs = call_fn(inputs, *args, **kwargs)\n    File \"c:\\Users\\Rnowa\\anaconda3\\envs\\SDA_DASCI\\lib\\site-packages\\keras\\utils\\traceback_utils.py\", line 96, in error_handler\n      return fn(*args, **kwargs)\n    File \"c:\\Users\\Rnowa\\anaconda3\\envs\\SDA_DASCI\\lib\\site-packages\\transformers\\models\\bert\\modeling_tf_bert.py\", line 400, in call\n      attention_output = self.dense_output(\n    File \"c:\\Users\\Rnowa\\anaconda3\\envs\\SDA_DASCI\\lib\\site-packages\\keras\\utils\\traceback_utils.py\", line 65, in error_handler\n      return fn(*args, **kwargs)\n    File \"c:\\Users\\Rnowa\\anaconda3\\envs\\SDA_DASCI\\lib\\site-packages\\keras\\engine\\base_layer.py\", line 1097, in __call__\n      outputs = call_fn(inputs, *args, **kwargs)\n    File \"c:\\Users\\Rnowa\\anaconda3\\envs\\SDA_DASCI\\lib\\site-packages\\keras\\utils\\traceback_utils.py\", line 96, in error_handler\n      return fn(*args, **kwargs)\n    File \"c:\\Users\\Rnowa\\anaconda3\\envs\\SDA_DASCI\\lib\\site-packages\\transformers\\models\\bert\\modeling_tf_bert.py\", line 364, in call\n      hidden_states = self.LayerNorm(inputs=hidden_states + input_tensor)\n    File \"c:\\Users\\Rnowa\\anaconda3\\envs\\SDA_DASCI\\lib\\site-packages\\keras\\utils\\traceback_utils.py\", line 65, in error_handler\n      return fn(*args, **kwargs)\n    File \"c:\\Users\\Rnowa\\anaconda3\\envs\\SDA_DASCI\\lib\\site-packages\\keras\\engine\\base_layer.py\", line 1097, in __call__\n      outputs = call_fn(inputs, *args, **kwargs)\n    File \"c:\\Users\\Rnowa\\anaconda3\\envs\\SDA_DASCI\\lib\\site-packages\\keras\\utils\\traceback_utils.py\", line 96, in error_handler\n      return fn(*args, **kwargs)\n    File \"c:\\Users\\Rnowa\\anaconda3\\envs\\SDA_DASCI\\lib\\site-packages\\keras\\layers\\normalization\\layer_normalization.py\", line 290, in call\n      mean, variance = tf.nn.moments(inputs, self.axis, keepdims=True)\nNode: 'tf_bert_for_sequence_classification/bert/encoder/layer_._16/attention/output/LayerNorm/moments/Cast'\nfailed to allocate memory\n\t [[{{node tf_bert_for_sequence_classification/bert/encoder/layer_._16/attention/output/LayerNorm/moments/Cast}}]]\nHint: If you want to see a list of allocated tensors when OOM happens, add report_tensor_allocations_upon_oom to RunOptions for current allocation info. This isn't available when running in Eager mode.\n [Op:__inference_train_function_84674]",
     "output_type": "error",
     "traceback": [
      "\u001b[1;31m---------------------------------------------------------------------------\u001b[0m",
      "\u001b[1;31mResourceExhaustedError\u001b[0m                    Traceback (most recent call last)",
      "Cell \u001b[1;32mIn [18], line 1\u001b[0m\n\u001b[1;32m----> 1\u001b[0m model\u001b[39m.\u001b[39;49mfit(train_dataset\u001b[39m.\u001b[39;49mbatch(base_batch_size),\n\u001b[0;32m      2\u001b[0m           epochs\u001b[39m=\u001b[39;49mnum_epoch,\n\u001b[0;32m      3\u001b[0m           batch_size\u001b[39m=\u001b[39;49mbase_batch_size)\n",
      "File \u001b[1;32mc:\\Users\\Rnowa\\anaconda3\\envs\\SDA_DASCI\\lib\\site-packages\\keras\\utils\\traceback_utils.py:70\u001b[0m, in \u001b[0;36mfilter_traceback.<locals>.error_handler\u001b[1;34m(*args, **kwargs)\u001b[0m\n\u001b[0;32m     67\u001b[0m     filtered_tb \u001b[39m=\u001b[39m _process_traceback_frames(e\u001b[39m.\u001b[39m__traceback__)\n\u001b[0;32m     68\u001b[0m     \u001b[39m# To get the full stack trace, call:\u001b[39;00m\n\u001b[0;32m     69\u001b[0m     \u001b[39m# `tf.debugging.disable_traceback_filtering()`\u001b[39;00m\n\u001b[1;32m---> 70\u001b[0m     \u001b[39mraise\u001b[39;00m e\u001b[39m.\u001b[39mwith_traceback(filtered_tb) \u001b[39mfrom\u001b[39;00m \u001b[39mNone\u001b[39m\n\u001b[0;32m     71\u001b[0m \u001b[39mfinally\u001b[39;00m:\n\u001b[0;32m     72\u001b[0m     \u001b[39mdel\u001b[39;00m filtered_tb\n",
      "File \u001b[1;32mc:\\Users\\Rnowa\\anaconda3\\envs\\SDA_DASCI\\lib\\site-packages\\tensorflow\\python\\eager\\execute.py:54\u001b[0m, in \u001b[0;36mquick_execute\u001b[1;34m(op_name, num_outputs, inputs, attrs, ctx, name)\u001b[0m\n\u001b[0;32m     52\u001b[0m \u001b[39mtry\u001b[39;00m:\n\u001b[0;32m     53\u001b[0m   ctx\u001b[39m.\u001b[39mensure_initialized()\n\u001b[1;32m---> 54\u001b[0m   tensors \u001b[39m=\u001b[39m pywrap_tfe\u001b[39m.\u001b[39mTFE_Py_Execute(ctx\u001b[39m.\u001b[39m_handle, device_name, op_name,\n\u001b[0;32m     55\u001b[0m                                       inputs, attrs, num_outputs)\n\u001b[0;32m     56\u001b[0m \u001b[39mexcept\u001b[39;00m core\u001b[39m.\u001b[39m_NotOkStatusException \u001b[39mas\u001b[39;00m e:\n\u001b[0;32m     57\u001b[0m   \u001b[39mif\u001b[39;00m name \u001b[39mis\u001b[39;00m \u001b[39mnot\u001b[39;00m \u001b[39mNone\u001b[39;00m:\n",
      "\u001b[1;31mResourceExhaustedError\u001b[0m: Graph execution error:\n\nDetected at node 'tf_bert_for_sequence_classification/bert/encoder/layer_._16/attention/output/LayerNorm/moments/Cast' defined at (most recent call last):\n    File \"c:\\Users\\Rnowa\\anaconda3\\envs\\SDA_DASCI\\lib\\runpy.py\", line 196, in _run_module_as_main\n      return _run_code(code, main_globals, None,\n    File \"c:\\Users\\Rnowa\\anaconda3\\envs\\SDA_DASCI\\lib\\runpy.py\", line 86, in _run_code\n      exec(code, run_globals)\n    File \"C:\\Users\\Rnowa\\AppData\\Roaming\\Python\\Python310\\site-packages\\ipykernel_launcher.py\", line 17, in <module>\n      app.launch_new_instance()\n    File \"C:\\Users\\Rnowa\\AppData\\Roaming\\Python\\Python310\\site-packages\\traitlets\\config\\application.py\", line 982, in launch_instance\n      app.start()\n    File \"C:\\Users\\Rnowa\\AppData\\Roaming\\Python\\Python310\\site-packages\\ipykernel\\kernelapp.py\", line 712, in start\n      self.io_loop.start()\n    File \"C:\\Users\\Rnowa\\AppData\\Roaming\\Python\\Python310\\site-packages\\tornado\\platform\\asyncio.py\", line 215, in start\n      self.asyncio_loop.run_forever()\n    File \"c:\\Users\\Rnowa\\anaconda3\\envs\\SDA_DASCI\\lib\\asyncio\\base_events.py\", line 600, in run_forever\n      self._run_once()\n    File \"c:\\Users\\Rnowa\\anaconda3\\envs\\SDA_DASCI\\lib\\asyncio\\base_events.py\", line 1896, in _run_once\n      handle._run()\n    File \"c:\\Users\\Rnowa\\anaconda3\\envs\\SDA_DASCI\\lib\\asyncio\\events.py\", line 80, in _run\n      self._context.run(self._callback, *self._args)\n    File \"C:\\Users\\Rnowa\\AppData\\Roaming\\Python\\Python310\\site-packages\\ipykernel\\kernelbase.py\", line 510, in dispatch_queue\n      await self.process_one()\n    File \"C:\\Users\\Rnowa\\AppData\\Roaming\\Python\\Python310\\site-packages\\ipykernel\\kernelbase.py\", line 499, in process_one\n      await dispatch(*args)\n    File \"C:\\Users\\Rnowa\\AppData\\Roaming\\Python\\Python310\\site-packages\\ipykernel\\kernelbase.py\", line 406, in dispatch_shell\n      await result\n    File \"C:\\Users\\Rnowa\\AppData\\Roaming\\Python\\Python310\\site-packages\\ipykernel\\kernelbase.py\", line 730, in execute_request\n      reply_content = await reply_content\n    File \"C:\\Users\\Rnowa\\AppData\\Roaming\\Python\\Python310\\site-packages\\ipykernel\\ipkernel.py\", line 383, in do_execute\n      res = shell.run_cell(\n    File \"C:\\Users\\Rnowa\\AppData\\Roaming\\Python\\Python310\\site-packages\\ipykernel\\zmqshell.py\", line 528, in run_cell\n      return super().run_cell(*args, **kwargs)\n    File \"C:\\Users\\Rnowa\\AppData\\Roaming\\Python\\Python310\\site-packages\\IPython\\core\\interactiveshell.py\", line 2940, in run_cell\n      result = self._run_cell(\n    File \"C:\\Users\\Rnowa\\AppData\\Roaming\\Python\\Python310\\site-packages\\IPython\\core\\interactiveshell.py\", line 2995, in _run_cell\n      return runner(coro)\n    File \"C:\\Users\\Rnowa\\AppData\\Roaming\\Python\\Python310\\site-packages\\IPython\\core\\async_helpers.py\", line 129, in _pseudo_sync_runner\n      coro.send(None)\n    File \"C:\\Users\\Rnowa\\AppData\\Roaming\\Python\\Python310\\site-packages\\IPython\\core\\interactiveshell.py\", line 3194, in run_cell_async\n      has_raised = await self.run_ast_nodes(code_ast.body, cell_name,\n    File \"C:\\Users\\Rnowa\\AppData\\Roaming\\Python\\Python310\\site-packages\\IPython\\core\\interactiveshell.py\", line 3373, in run_ast_nodes\n      if await self.run_code(code, result, async_=asy):\n    File \"C:\\Users\\Rnowa\\AppData\\Roaming\\Python\\Python310\\site-packages\\IPython\\core\\interactiveshell.py\", line 3433, in run_code\n      exec(code_obj, self.user_global_ns, self.user_ns)\n    File \"C:\\Users\\Rnowa\\AppData\\Local\\Temp\\ipykernel_28496\\3826060427.py\", line 1, in <module>\n      model.fit(train_dataset.shuffle(len(train_dataset)).batch(base_batch_size),\n    File \"c:\\Users\\Rnowa\\anaconda3\\envs\\SDA_DASCI\\lib\\site-packages\\keras\\utils\\traceback_utils.py\", line 65, in error_handler\n      return fn(*args, **kwargs)\n    File \"c:\\Users\\Rnowa\\anaconda3\\envs\\SDA_DASCI\\lib\\site-packages\\keras\\engine\\training.py\", line 1564, in fit\n      tmp_logs = self.train_function(iterator)\n    File \"c:\\Users\\Rnowa\\anaconda3\\envs\\SDA_DASCI\\lib\\site-packages\\keras\\engine\\training.py\", line 1160, in train_function\n      return step_function(self, iterator)\n    File \"c:\\Users\\Rnowa\\anaconda3\\envs\\SDA_DASCI\\lib\\site-packages\\keras\\engine\\training.py\", line 1146, in step_function\n      outputs = model.distribute_strategy.run(run_step, args=(data,))\n    File \"c:\\Users\\Rnowa\\anaconda3\\envs\\SDA_DASCI\\lib\\site-packages\\keras\\engine\\training.py\", line 1135, in run_step\n      outputs = model.train_step(data)\n    File \"c:\\Users\\Rnowa\\anaconda3\\envs\\SDA_DASCI\\lib\\site-packages\\transformers\\modeling_tf_utils.py\", line 1420, in train_step\n      y_pred = self(x, training=True)\n    File \"c:\\Users\\Rnowa\\anaconda3\\envs\\SDA_DASCI\\lib\\site-packages\\keras\\utils\\traceback_utils.py\", line 65, in error_handler\n      return fn(*args, **kwargs)\n    File \"c:\\Users\\Rnowa\\anaconda3\\envs\\SDA_DASCI\\lib\\site-packages\\keras\\engine\\training.py\", line 557, in __call__\n      return super().__call__(*args, **kwargs)\n    File \"c:\\Users\\Rnowa\\anaconda3\\envs\\SDA_DASCI\\lib\\site-packages\\keras\\utils\\traceback_utils.py\", line 65, in error_handler\n      return fn(*args, **kwargs)\n    File \"c:\\Users\\Rnowa\\anaconda3\\envs\\SDA_DASCI\\lib\\site-packages\\keras\\engine\\base_layer.py\", line 1097, in __call__\n      outputs = call_fn(inputs, *args, **kwargs)\n    File \"c:\\Users\\Rnowa\\anaconda3\\envs\\SDA_DASCI\\lib\\site-packages\\keras\\utils\\traceback_utils.py\", line 96, in error_handler\n      return fn(*args, **kwargs)\n    File \"c:\\Users\\Rnowa\\anaconda3\\envs\\SDA_DASCI\\lib\\site-packages\\transformers\\modeling_tf_utils.py\", line 1652, in run_call_with_unpacked_inputs\n    File \"c:\\Users\\Rnowa\\anaconda3\\envs\\SDA_DASCI\\lib\\site-packages\\transformers\\models\\bert\\modeling_tf_bert.py\", line 1665, in call\n      outputs = self.bert(\n    File \"c:\\Users\\Rnowa\\anaconda3\\envs\\SDA_DASCI\\lib\\site-packages\\keras\\utils\\traceback_utils.py\", line 65, in error_handler\n      return fn(*args, **kwargs)\n    File \"c:\\Users\\Rnowa\\anaconda3\\envs\\SDA_DASCI\\lib\\site-packages\\keras\\engine\\base_layer.py\", line 1097, in __call__\n      outputs = call_fn(inputs, *args, **kwargs)\n    File \"c:\\Users\\Rnowa\\anaconda3\\envs\\SDA_DASCI\\lib\\site-packages\\keras\\utils\\traceback_utils.py\", line 96, in error_handler\n      return fn(*args, **kwargs)\n    File \"c:\\Users\\Rnowa\\anaconda3\\envs\\SDA_DASCI\\lib\\site-packages\\transformers\\modeling_tf_utils.py\", line 1652, in run_call_with_unpacked_inputs\n    File \"c:\\Users\\Rnowa\\anaconda3\\envs\\SDA_DASCI\\lib\\site-packages\\transformers\\models\\bert\\modeling_tf_bert.py\", line 873, in call\n      encoder_outputs = self.encoder(\n    File \"c:\\Users\\Rnowa\\anaconda3\\envs\\SDA_DASCI\\lib\\site-packages\\keras\\utils\\traceback_utils.py\", line 65, in error_handler\n      return fn(*args, **kwargs)\n    File \"c:\\Users\\Rnowa\\anaconda3\\envs\\SDA_DASCI\\lib\\site-packages\\keras\\engine\\base_layer.py\", line 1097, in __call__\n      outputs = call_fn(inputs, *args, **kwargs)\n    File \"c:\\Users\\Rnowa\\anaconda3\\envs\\SDA_DASCI\\lib\\site-packages\\keras\\utils\\traceback_utils.py\", line 96, in error_handler\n      return fn(*args, **kwargs)\n    File \"c:\\Users\\Rnowa\\anaconda3\\envs\\SDA_DASCI\\lib\\site-packages\\transformers\\models\\bert\\modeling_tf_bert.py\", line 558, in call\n      for i, layer_module in enumerate(self.layer):\n    File \"c:\\Users\\Rnowa\\anaconda3\\envs\\SDA_DASCI\\lib\\site-packages\\transformers\\models\\bert\\modeling_tf_bert.py\", line 564, in call\n      layer_outputs = layer_module(\n    File \"c:\\Users\\Rnowa\\anaconda3\\envs\\SDA_DASCI\\lib\\site-packages\\keras\\utils\\traceback_utils.py\", line 65, in error_handler\n      return fn(*args, **kwargs)\n    File \"c:\\Users\\Rnowa\\anaconda3\\envs\\SDA_DASCI\\lib\\site-packages\\keras\\engine\\base_layer.py\", line 1097, in __call__\n      outputs = call_fn(inputs, *args, **kwargs)\n    File \"c:\\Users\\Rnowa\\anaconda3\\envs\\SDA_DASCI\\lib\\site-packages\\keras\\utils\\traceback_utils.py\", line 96, in error_handler\n      return fn(*args, **kwargs)\n    File \"c:\\Users\\Rnowa\\anaconda3\\envs\\SDA_DASCI\\lib\\site-packages\\transformers\\models\\bert\\modeling_tf_bert.py\", line 474, in call\n      self_attention_outputs = self.attention(\n    File \"c:\\Users\\Rnowa\\anaconda3\\envs\\SDA_DASCI\\lib\\site-packages\\keras\\utils\\traceback_utils.py\", line 65, in error_handler\n      return fn(*args, **kwargs)\n    File \"c:\\Users\\Rnowa\\anaconda3\\envs\\SDA_DASCI\\lib\\site-packages\\keras\\engine\\base_layer.py\", line 1097, in __call__\n      outputs = call_fn(inputs, *args, **kwargs)\n    File \"c:\\Users\\Rnowa\\anaconda3\\envs\\SDA_DASCI\\lib\\site-packages\\keras\\utils\\traceback_utils.py\", line 96, in error_handler\n      return fn(*args, **kwargs)\n    File \"c:\\Users\\Rnowa\\anaconda3\\envs\\SDA_DASCI\\lib\\site-packages\\transformers\\models\\bert\\modeling_tf_bert.py\", line 400, in call\n      attention_output = self.dense_output(\n    File \"c:\\Users\\Rnowa\\anaconda3\\envs\\SDA_DASCI\\lib\\site-packages\\keras\\utils\\traceback_utils.py\", line 65, in error_handler\n      return fn(*args, **kwargs)\n    File \"c:\\Users\\Rnowa\\anaconda3\\envs\\SDA_DASCI\\lib\\site-packages\\keras\\engine\\base_layer.py\", line 1097, in __call__\n      outputs = call_fn(inputs, *args, **kwargs)\n    File \"c:\\Users\\Rnowa\\anaconda3\\envs\\SDA_DASCI\\lib\\site-packages\\keras\\utils\\traceback_utils.py\", line 96, in error_handler\n      return fn(*args, **kwargs)\n    File \"c:\\Users\\Rnowa\\anaconda3\\envs\\SDA_DASCI\\lib\\site-packages\\transformers\\models\\bert\\modeling_tf_bert.py\", line 364, in call\n      hidden_states = self.LayerNorm(inputs=hidden_states + input_tensor)\n    File \"c:\\Users\\Rnowa\\anaconda3\\envs\\SDA_DASCI\\lib\\site-packages\\keras\\utils\\traceback_utils.py\", line 65, in error_handler\n      return fn(*args, **kwargs)\n    File \"c:\\Users\\Rnowa\\anaconda3\\envs\\SDA_DASCI\\lib\\site-packages\\keras\\engine\\base_layer.py\", line 1097, in __call__\n      outputs = call_fn(inputs, *args, **kwargs)\n    File \"c:\\Users\\Rnowa\\anaconda3\\envs\\SDA_DASCI\\lib\\site-packages\\keras\\utils\\traceback_utils.py\", line 96, in error_handler\n      return fn(*args, **kwargs)\n    File \"c:\\Users\\Rnowa\\anaconda3\\envs\\SDA_DASCI\\lib\\site-packages\\keras\\layers\\normalization\\layer_normalization.py\", line 290, in call\n      mean, variance = tf.nn.moments(inputs, self.axis, keepdims=True)\nNode: 'tf_bert_for_sequence_classification/bert/encoder/layer_._16/attention/output/LayerNorm/moments/Cast'\nfailed to allocate memory\n\t [[{{node tf_bert_for_sequence_classification/bert/encoder/layer_._16/attention/output/LayerNorm/moments/Cast}}]]\nHint: If you want to see a list of allocated tensors when OOM happens, add report_tensor_allocations_upon_oom to RunOptions for current allocation info. This isn't available when running in Eager mode.\n [Op:__inference_train_function_84674]"
     ]
    }
   ],
   "source": [
    "model.fit(train_dataset.shuffle(len(train_dataset)).batch(base_batch_size),\n",
    "          epochs=num_epoch,\n",
    "          batch_size=base_batch_size)"
   ]
  },
  {
   "cell_type": "code",
   "execution_count": 21,
   "metadata": {},
   "outputs": [],
   "source": [
    "preds_bert = pd.read_csv('preds_df_bert.csv')\n"
   ]
  },
  {
   "cell_type": "markdown",
   "metadata": {},
   "source": [
    "https://www.kaggle.com/code/afi1289/nlp-with-disaster-tweets-cleaning-tf-idf-and-bert/notebook?scriptVersionId=111089096\n",
    "https://www.kaggle.com/code/tanknee/nlp-getting-started-with-bert-large/notebook?scriptVersionId=109267040"
   ]
  }
 ],
 "metadata": {
  "kernelspec": {
   "display_name": "Python 3.10.4 ('SDA_DASCI')",
   "language": "python",
   "name": "python3"
  },
  "language_info": {
   "codemirror_mode": {
    "name": "ipython",
    "version": 3
   },
   "file_extension": ".py",
   "mimetype": "text/x-python",
   "name": "python",
   "nbconvert_exporter": "python",
   "pygments_lexer": "ipython3",
   "version": "3.10.4"
  },
  "orig_nbformat": 4,
  "vscode": {
   "interpreter": {
    "hash": "0bb2324e7dcdba97b37be35a1f45ac0bb4ca5982753a2b22e8762c4337bc3e56"
   }
  }
 },
 "nbformat": 4,
 "nbformat_minor": 2
}
